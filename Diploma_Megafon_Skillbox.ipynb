{
 "cells": [
  {
   "cell_type": "markdown",
   "metadata": {
    "id": "Z0D3oYRI1Nom"
   },
   "source": [
    "# Диплом\n",
    "\n",
    "\n",
    "[Постановка задачи](#Постановка-задачи) <br>\n",
    "[Codebook](#Codebook)<br>\n",
    "[Требования к работе](#Требования-к-работе)<br>\n",
    "[Критерии оценивания](#Критерии-оценивания)<br>\n",
    "[Дополнительные материалы](#Дополнительные-материалы) <br>\n"
   ]
  },
  {
   "cell_type": "markdown",
   "metadata": {
    "id": "XYSfdqQr1Noo"
   },
   "source": [
    "## Постановка задачи\n",
    "\n",
    "Как и любой бизнес, компания «Мегафон» хочет повысить удовлетворённость своих клиентов качеством услуг. Это важная задача для удержания пользователей — как давних, так и недавно привлечённых. Ведь затраты на маркетинг и продвижение не оправдаются, если клиент уйдёт из-за низкого качества связи. Однако в реальном мире ресурсы всегда ограничены, и в единицу времени технический отдел может решить конечное количество задач. <br>\n",
    "Чтобы делать это наиболее эффективно, важно определить, какие технические показатели качества связи сильнее всего влияют на удовлетворённость клиентов, и в первую очередь направить ресурсы на работу с ними. Для этого «Мегафон» провёл опрос своих клиентов, предложив им оценить уровень удовлетворённости качеством связи. По каждому клиенту, прошедшему опрос, были собраны технические показатели. <br>\n",
    "Подготовьте исследование для компании «Мегафон» и проанализируйте, как зависит (и зависит ли) оценка, которую ставит клиент в опросе, от технических показателей, которые были собраны. <br><br><br>\n",
    "\n",
    "**Более подробно о проведённом опросе:**\n",
    "\n",
    "В ходе опроса компания «Мегафон» предложила своим клиентам оценить уровень удовлетворённости качеством связи по десятибалльной шкале (где 10 — это «отлично», а 1 — «ужасно»). Если клиент оценивал качество связи на 9 или 10 баллов, опрос заканчивался. Если клиент ставил оценку ниже 9, задавался второй вопрос — о причинах неудовлетворённости качеством связи с предоставленными пронумерованными вариантами ответа. Ответ можно было дать в свободном формате или перечислить номера ответов через запятую. Ниже вы можете ознакомиться с инфографикой по структуре опроса.<br>\n",
    "\n",
    "*Обратите, пожалуйста, внимание, что для работы вам даны реальные данные, что может повлечь необходимость в дополнительной их обработке.*"
   ]
  },
  {
   "cell_type": "markdown",
   "metadata": {
    "id": "-nmYQ_yO1Nou"
   },
   "source": [
    "![](https://sun9-32.userapi.com/C6vN5pHQW7hlseIt0AtTN7qNDQbDnHXdt1P2NA/ILntXqa-RrA.jpg)"
   ]
  },
  {
   "cell_type": "markdown",
   "metadata": {
    "id": "3cTfAkxD1Nov"
   },
   "source": [
    "## Codebook\n",
    "\n",
    "`megafon.csv` содержит следующие значения: <br><br>\n",
    "&nbsp;&nbsp;&nbsp;&nbsp; `user_id` — идентификатор абонента;<br>\n",
    "&nbsp;&nbsp;&nbsp;&nbsp; `Q1` — ответ на первый вопрос;<br>\n",
    "&nbsp;&nbsp;&nbsp;&nbsp; `Q2` — ответ на второй вопрос;<br>\n",
    "&nbsp;&nbsp;&nbsp;&nbsp; `Total Traffic(MB)` — объем трафика передачи данных <sup>1 </sup>; <br>\n",
    "&nbsp;&nbsp;&nbsp;&nbsp; `Downlink Throughput(Kbps)` — средняя скорость «к абоненту» <sup>2 </sup>;<br>\n",
    "&nbsp;&nbsp;&nbsp;&nbsp; `Uplink Throughput(Kbps)`— средняя скорость «от абонента» <sup>3 </sup>;<br>\n",
    "&nbsp;&nbsp;&nbsp;&nbsp; `Downlink TCP Retransmission Rate(%)` — частота переотправок пакетов «к абоненту» <sup>4 </sup>;<br>\n",
    "&nbsp;&nbsp;&nbsp;&nbsp; `Video Streaming Download Throughput(Kbps)` — скорость загрузки потокового видео <sup>5 </sup>;<br>\n",
    "&nbsp;&nbsp;&nbsp;&nbsp; `Video Streaming xKB Start Delay(ms)` — задержка старта воспроизведения видео <sup>6 </sup>;<br>\n",
    "&nbsp;&nbsp;&nbsp;&nbsp; `Web Page Download Throughput(Kbps)` — скорость загрузки web-страниц через браузер <sup>7 </sup>;<br>\n",
    "&nbsp;&nbsp;&nbsp;&nbsp; `Web Average TCP RTT(ms)` — пинг при просмотре web-страниц<sup>8 </sup>.<br>\n",
    "\n",
    "\n",
    "<sup>1 </sup> — Насколько активно абонент использует мобильный интернет.<br>\n",
    "<sup>2 </sup> — Считается по всему трафику передачи данных.<br>\n",
    "<sup>3 </sup> — Считается по всему трафику передачи данных.<br>\n",
    "<sup>4 </sup> — Чем выше, тем хуже. Если в канале возникает ошибка, пакет переотправляется. Снижается полезная скорость.<br>\n",
    "<sup>5 </sup> — Чем выше, тем лучше — меньше прерываний и лучше качество картинки.<br>\n",
    "<sup>6 </sup> — Сколько времени пройдёт между нажатием на кнопку Play и началом воспроизведения видео. Чем меньше это время, тем быстрее начинается воспроизведение.<br>\n",
    "<sup>7 </sup> — Чем выше, тем лучше.<br>\n",
    "<sup>8 </sup> — Чем меньше, тем лучше — быстрее загружаются web-страницы.<br>\n",
    "\n",
    "Первый технический показатель представлен как сумма за период в одну неделю перед участием в опросе. Остальные технические показатели отображают среднее значение по данному признаку за период в одну неделю перед участием в опросе."
   ]
  },
  {
   "cell_type": "markdown",
   "metadata": {
    "id": "-ELPkgHH1Now"
   },
   "source": [
    "# Требования к работе\n",
    "\n",
    "Составьте работу из нескольких частей, в каждой из которых формулируется вопрос к данным или статистическая гипотеза о данных, например:\n",
    "* На основании данных какое самое вероятное значение величины X? Каков доверительный интервал для неё?\n",
    "* Верно ли, что для групп A и B значения величины X статистически достоверно различаются? На сколько?\n",
    "\n",
    "И далее по результатам анализа дайте развёрнутый ответ на этот вопрос.\n",
    "\n",
    "Сделайте **минимум три части** в работе, максимальное количество частей не ограничено. Хотя бы одна из них должна быть связана с первым вопросом из опроса «Мегафона» и хотя бы одна — со вторым. Организуйте **каждую** из частей в соответствии со следующей структурой:\n",
    "\n",
    "1. **Постановка задачи**\n",
    "\n",
    "   **Что** Вы хотите проанализировать и **зачем**? \n",
    "    <br><br> Опишите предмет анализа с обоснованием его выбора. Почему вы хотите исследовать это предположение? Как ответ на этот вопрос поможет компании «Мегафон» с точки зрения бизнеса?<br><br>\n",
    "    \n",
    "2. **Блок с разведочным анализом**\n",
    "   \n",
    "   Перед тем, как проверить своё предположение статистическими методами, посмотрите, что в данных имеется соответствующий «сигнал». Сделайте необходимые визуализации и опишите видимые тенденции в данных.<br><br>\n",
    "   \n",
    "3. **Блок со статистическим тестом**\n",
    "\n",
    "   Выберите метод для статистической проверки вашего предположения, письменно обоснуйте свой выбор. Проверьте, удовлетворяет ли выборка допущениям (assumptions) выбранного вами теста. Реализуйте тест и на основании результатов сформируйте вывод.<br><br>\n",
    "   \n",
    "4. **Вывод**\n",
    "\n",
    "   Обобщите результаты вашего анализа. Проговорите ещё раз ваше изначальное предположение, изложите вывод по результатам статистичекого анализа. Если ваше предположение не подтвердилось, напишите, как вы думаете, почему так получилось.\n",
    "<br><br>\n",
    " \n",
    "   \n",
    "   \n",
    "На проверку отправьте два документа:\n",
    "1. Ноутбук с проведённым анализом и кодом решения.\n",
    "2. Презентация результатов, которая будет использована для защиты работы перед комиссией (файл в формате PDF).\n",
    "<br><br>\n",
    "Рекомендации по структуре презентации можно найти [по ссылке](https://docs.google.com/document/d/1oD3xe_xPKuhOIvjyaaM5KLM4cegycjo2kRIOHs3hoyw/edit?usp=sharing)."
   ]
  },
  {
   "cell_type": "markdown",
   "metadata": {
    "id": "vIX5Vad91Now"
   },
   "source": [
    "## Критерии оценивания\n",
    "\n",
    "**Общие критерии:** <br>\n",
    "Каждый шаг анализа должен быть обоснован. Когда вы формулируете вопрос для исследования, обоснуйте, как ответ на него поможет компании «Мегафон» решить поставленную задачу. Если выбираете определённый способ визуализации, обоснуйте, почему такой способ отображения данных лучше всего подходит для данного типа данных. Если выбираете определённый статистический тест, обоснуйте, почему этот тест подходит для проверки вашего предположения. Если вы делаете очистку или обработку данных, обоснуйте, почему такая обработка (конкретный шаг) необходима. <br><br>\n",
    "\n",
    "***При отсутствии обоснования хотя бы по одному из шагов работа не проверяется и отправляется на доработку.***\n",
    "\n",
    "<br>\n",
    "\n",
    "**Критерии оценки кода:**\n",
    "- Корректность реализации той задачи, которая была поставлена.\n",
    "- Соблюдение основных стандартов стиля по PEP8 (пробелы, отступы, названия переменных, единый стиль кода).\n",
    "- Комментарии или текстовое описание к каждому логическому блоку кода.\n",
    "\n",
    "**Критерии оценки визуализации:**\n",
    "- Каждый график должен иметь заголовок.\n",
    "- Оси графиков должны быть подписаны.\n",
    "- Наличие легенды, если тип графика это предполагает.\n",
    "- Соответствие типа графика тому, что предполагается объяснить этим графиком.\n",
    "- Понятность, читаемость графика.\n",
    "\n",
    "**Критерии оценки статистического анализа:**\n",
    "- Соответствие теста поставленной задаче.\n",
    "- Удовлетворение выборкой assumptions теста.\n",
    "- Корректность математических расчётов при проведении теста."
   ]
  },
  {
   "cell_type": "markdown",
   "metadata": {
    "id": "TDlPyHif1Nox"
   },
   "source": [
    "## Дополнительные материалы\n",
    "\n",
    "Для выполнения этого задания вам не нужно разбираться в телекоммуникациях на уровне технического специалиста. Базового представления о терминах, используемых в Codebook, будет достаточно. Для тех, кто столкнулся с ними впервые, и тех, кто хочет освежить знания, мы подготовили несколько ссылок на полезные материалы для понимания контекста:\n",
    "<br>\n",
    "\n",
    "\n",
    "**Что такое пакет данных?**<br>\n",
    "https://ru.wikipedia.org/wiki/Пакет_(сетевые_технологии)<br><br>\n",
    "**Что такое пинг/RTT?** <br>\n",
    "https://ru.wikipedia.org/wiki/Круговая_задержка <br><br>\n",
    "**Как работает протокол TCP?**<br>\n",
    "https://youtu.be/CKUOb4htnB4<br><br>\n",
    "**Что такое ошибка в канале и как происходит переотправка пакета?**<br>\n",
    "https://accedian.com/blog/network-packet-loss-retransmissions-and-duplicate-acknowledgements/<br>\n",
    "    \n",
    "    "
   ]
  },
  {
   "cell_type": "code",
   "execution_count": 1,
   "metadata": {
    "id": "AAvHFaLj1Noy"
   },
   "outputs": [],
   "source": [
    "# Данные\n",
    "import pandas as pd\n",
    "import numpy as np\n",
    "\n",
    "# Статистика\n",
    "from statsmodels.graphics.gofplots import qqplot\n",
    "from statsmodels.stats.proportion import proportions_ztest\n",
    "from scipy.stats import mannwhitneyu\n",
    "import scipy.stats as st\n",
    "from scipy.stats import ttest_ind\n",
    "from scipy import stats\n",
    "# отделяем группы \n",
    "\n",
    "\n",
    "# Визуализация\n",
    "import matplotlib.pyplot as plt\n",
    "from matplotlib.backends.backend_agg import FigureCanvasAgg\n",
    "from matplotlib.transforms import Bbox\n",
    "import seaborn as sns\n",
    "import plotly.graph_objects as go\n",
    "import plotly.express as px\n",
    "from PIL import Image\n",
    "palette = plt.get_cmap('Set2')\n",
    "plt.style.use('seaborn-darkgrid')\n",
    "import missingno as msno\n",
    "import matplotlib.patches as mpatches\n",
    "\n",
    "# Прочие\n",
    "from itertools import combinations\n",
    "import re\n",
    "from collections import defaultdict\n",
    "import random\n",
    "from tqdm import tqdm"
   ]
  },
  {
   "cell_type": "markdown",
   "metadata": {},
   "source": [
    "<H1><center>1.Подготовка данных"
   ]
  },
  {
   "cell_type": "markdown",
   "metadata": {},
   "source": [
    "<center><h2> Загрузка данных"
   ]
  },
  {
   "cell_type": "code",
   "execution_count": 2,
   "metadata": {},
   "outputs": [
    {
     "data": {
      "text/html": [
       "<div>\n",
       "<style scoped>\n",
       "    .dataframe tbody tr th:only-of-type {\n",
       "        vertical-align: middle;\n",
       "    }\n",
       "\n",
       "    .dataframe tbody tr th {\n",
       "        vertical-align: top;\n",
       "    }\n",
       "\n",
       "    .dataframe thead th {\n",
       "        text-align: right;\n",
       "    }\n",
       "</style>\n",
       "<table border=\"1\" class=\"dataframe\">\n",
       "  <thead>\n",
       "    <tr style=\"text-align: right;\">\n",
       "      <th></th>\n",
       "      <th>user_id</th>\n",
       "      <th>Q1</th>\n",
       "      <th>Q2</th>\n",
       "      <th>Total Traffic(MB)</th>\n",
       "      <th>Downlink Throughput(Kbps)</th>\n",
       "      <th>Uplink Throughput(Kbps)</th>\n",
       "      <th>Downlink TCP Retransmission Rate(%)</th>\n",
       "      <th>Video Streaming Download Throughput(Kbps)</th>\n",
       "      <th>Video Streaming xKB Start Delay(ms)</th>\n",
       "      <th>Web Page Download Throughput(Kbps)</th>\n",
       "      <th>Web Average TCP RTT(ms)</th>\n",
       "    </tr>\n",
       "  </thead>\n",
       "  <tbody>\n",
       "    <tr>\n",
       "      <th>0</th>\n",
       "      <td>1</td>\n",
       "      <td>5</td>\n",
       "      <td>NaN</td>\n",
       "      <td>775.48846</td>\n",
       "      <td>360.13</td>\n",
       "      <td>86.56</td>\n",
       "      <td>3.93</td>\n",
       "      <td>1859.15</td>\n",
       "      <td>2309</td>\n",
       "      <td>1007.82</td>\n",
       "      <td>83</td>\n",
       "    </tr>\n",
       "    <tr>\n",
       "      <th>1</th>\n",
       "      <td>2</td>\n",
       "      <td>5</td>\n",
       "      <td>4</td>\n",
       "      <td>861.96324</td>\n",
       "      <td>3023.54</td>\n",
       "      <td>411.18</td>\n",
       "      <td>1.27</td>\n",
       "      <td>667.47</td>\n",
       "      <td>2080</td>\n",
       "      <td>255.36</td>\n",
       "      <td>425</td>\n",
       "    </tr>\n",
       "    <tr>\n",
       "      <th>2</th>\n",
       "      <td>3</td>\n",
       "      <td>1</td>\n",
       "      <td>4</td>\n",
       "      <td>261.11860</td>\n",
       "      <td>790.96</td>\n",
       "      <td>34.20</td>\n",
       "      <td>1.79</td>\n",
       "      <td>1079.60</td>\n",
       "      <td>6367</td>\n",
       "      <td>535.85</td>\n",
       "      <td>485</td>\n",
       "    </tr>\n",
       "    <tr>\n",
       "      <th>3</th>\n",
       "      <td>4</td>\n",
       "      <td>8</td>\n",
       "      <td>3</td>\n",
       "      <td>179.18564</td>\n",
       "      <td>2590.97</td>\n",
       "      <td>325.88</td>\n",
       "      <td>0.80</td>\n",
       "      <td>7053.81</td>\n",
       "      <td>3218</td>\n",
       "      <td>1221.02</td>\n",
       "      <td>51</td>\n",
       "    </tr>\n",
       "    <tr>\n",
       "      <th>4</th>\n",
       "      <td>5</td>\n",
       "      <td>2</td>\n",
       "      <td>2, 3, 4</td>\n",
       "      <td>351.99208</td>\n",
       "      <td>731.61</td>\n",
       "      <td>223.54</td>\n",
       "      <td>1.15</td>\n",
       "      <td>4550.38</td>\n",
       "      <td>1767</td>\n",
       "      <td>2336.56</td>\n",
       "      <td>68</td>\n",
       "    </tr>\n",
       "  </tbody>\n",
       "</table>\n",
       "</div>"
      ],
      "text/plain": [
       "   user_id Q1       Q2  Total Traffic(MB)  Downlink Throughput(Kbps)  \\\n",
       "0        1  5      NaN          775.48846                     360.13   \n",
       "1        2  5        4          861.96324                    3023.54   \n",
       "2        3  1        4          261.11860                     790.96   \n",
       "3        4  8        3          179.18564                    2590.97   \n",
       "4        5  2  2, 3, 4          351.99208                     731.61   \n",
       "\n",
       "   Uplink Throughput(Kbps)  Downlink TCP Retransmission Rate(%)  \\\n",
       "0                    86.56                                 3.93   \n",
       "1                   411.18                                 1.27   \n",
       "2                    34.20                                 1.79   \n",
       "3                   325.88                                 0.80   \n",
       "4                   223.54                                 1.15   \n",
       "\n",
       "   Video Streaming Download Throughput(Kbps)  \\\n",
       "0                                    1859.15   \n",
       "1                                     667.47   \n",
       "2                                    1079.60   \n",
       "3                                    7053.81   \n",
       "4                                    4550.38   \n",
       "\n",
       "   Video Streaming xKB Start Delay(ms)  Web Page Download Throughput(Kbps)  \\\n",
       "0                                 2309                             1007.82   \n",
       "1                                 2080                              255.36   \n",
       "2                                 6367                              535.85   \n",
       "3                                 3218                             1221.02   \n",
       "4                                 1767                             2336.56   \n",
       "\n",
       "   Web Average TCP RTT(ms)  \n",
       "0                       83  \n",
       "1                      425  \n",
       "2                      485  \n",
       "3                       51  \n",
       "4                       68  "
      ]
     },
     "execution_count": 2,
     "metadata": {},
     "output_type": "execute_result"
    }
   ],
   "source": [
    "#подгружаем .сsv файл с данными\n",
    "df_megafon = pd.read_csv(\"megafon.csv\")\n",
    "df_megafon.head()\n"
   ]
  },
  {
   "cell_type": "code",
   "execution_count": 3,
   "metadata": {},
   "outputs": [
    {
     "name": "stdout",
     "output_type": "stream",
     "text": [
      "<class 'pandas.core.frame.DataFrame'>\n",
      "RangeIndex: 3112 entries, 0 to 3111\n",
      "Data columns (total 11 columns):\n",
      " #   Column                                     Non-Null Count  Dtype  \n",
      "---  ------                                     --------------  -----  \n",
      " 0   user_id                                    3112 non-null   int64  \n",
      " 1   Q1                                         3110 non-null   object \n",
      " 2   Q2                                         1315 non-null   object \n",
      " 3   Total Traffic(MB)                          3112 non-null   float64\n",
      " 4   Downlink Throughput(Kbps)                  3112 non-null   float64\n",
      " 5   Uplink Throughput(Kbps)                    3112 non-null   float64\n",
      " 6   Downlink TCP Retransmission Rate(%)        3112 non-null   float64\n",
      " 7   Video Streaming Download Throughput(Kbps)  3112 non-null   float64\n",
      " 8   Video Streaming xKB Start Delay(ms)        3112 non-null   int64  \n",
      " 9   Web Page Download Throughput(Kbps)         3112 non-null   float64\n",
      " 10  Web Average TCP RTT(ms)                    3112 non-null   int64  \n",
      "dtypes: float64(6), int64(3), object(2)\n",
      "memory usage: 267.6+ KB\n"
     ]
    }
   ],
   "source": [
    "#получаем информацию по датасету\n",
    "df_megafon.info()"
   ]
  },
  {
   "cell_type": "code",
   "execution_count": null,
   "metadata": {
    "scrolled": false
   },
   "outputs": [],
   "source": [
    "#проверяем полноту данных\n",
    "msno.bar(df_megafon)\n",
    "msno.matrix(df_megafon)\n",
    "plt.show()"
   ]
  },
  {
   "cell_type": "markdown",
   "metadata": {},
   "source": [
    "Есть два пропуска среди ответов на первый вопрос **Q1**. Так как мы никак не можем их идентифицировать, то смело удаляем их из датафрейма. Также следует проверить на корректность ответы на 1 вопрос. <br>"
   ]
  },
  {
   "cell_type": "markdown",
   "metadata": {},
   "source": [
    "<H3> Обработка ответов на первый вопрос"
   ]
  },
  {
   "cell_type": "code",
   "execution_count": null,
   "metadata": {},
   "outputs": [],
   "source": [
    "#Проверим какие уникальные ответы были на первый вопрос\n",
    "df_megafon[\"Q1\"].unique()"
   ]
  },
  {
   "cell_type": "markdown",
   "metadata": {},
   "source": [
    "<H4>Видим что абоненты не только ставили оценки от 1 до 10, но и что-то писали словами, а где-то описывали словами свои претензии."
   ]
  },
  {
   "cell_type": "markdown",
   "metadata": {},
   "source": [
    "Много ответов,не укладываются в критерии оценки, заданные условием. <br>\n",
    "Мы можем пойти дальше двумя путями: <br>\n",
    "1. Оценивать все уникальные записи (например c помощью регулярными выражений);\n",
    "2. Удалить некорректные ответы.\n",
    "<br>\n",
    "\n",
    "Первый вариант сложный как в плане техничекой реализации, так и в плане интерпретации полученных оценок. <br>\n",
    "Например, как интерпритировать ответ \"3, 9\" или? Какой вариант ошибочный? Или взять среднее? <br>\n",
    "Или же ответ \"Я ценой услуг не удовлетворен\". Как охарактеризовать? <br> Оценка не имеет отношения к качеству услуг, а только к стоимости. Оценим насколько критичен этот процент ошибки по выборке."
   ]
  },
  {
   "cell_type": "code",
   "execution_count": null,
   "metadata": {},
   "outputs": [],
   "source": [
    "# Удаляем пропуски в ответах на первый вопрос.\n",
    "df_megafon = df_megafon[~df_megafon.Q1.isna()]"
   ]
  },
  {
   "cell_type": "markdown",
   "metadata": {},
   "source": [
    "Если ответ на Q1 = 0, заменяем на 1"
   ]
  },
  {
   "cell_type": "code",
   "execution_count": null,
   "metadata": {},
   "outputs": [],
   "source": [
    "df_megafon.loc[df_megafon['Q1'] == '0', 'Q1'] = '1'"
   ]
  },
  {
   "cell_type": "code",
   "execution_count": null,
   "metadata": {},
   "outputs": [],
   "source": [
    "#создаём список с валидными именами\n",
    "valid_answer = [str(i) for i in range(1, 11)]"
   ]
  },
  {
   "cell_type": "code",
   "execution_count": null,
   "metadata": {},
   "outputs": [],
   "source": [
    "# Посчитаем процент ошибок\n",
    "error_percent = 1 - \\\n",
    "    df_megafon[df_megafon['Q1'].isin(valid_answer)]['Q1'].count() / df_megafon['Q1'].count()\n",
    "# Количество ошибочных данных\n",
    "error_count = df_megafon[~df_megafon['Q1'].isin(valid_answer)]['Q1'].count()\n",
    "\n",
    "print(f'Процент невалидных записей Q1 - {error_percent:.2%}')\n",
    "print(f'Количество невалидных записей Q1 - {error_count}')"
   ]
  },
  {
   "cell_type": "code",
   "execution_count": null,
   "metadata": {},
   "outputs": [],
   "source": [
    "#оставим только значения от 1 до 10\n",
    "df_megafon = df_megafon[df_megafon[\"Q1\"].isin(valid_answer)]\n",
    "df_megafon.Q1 = df_megafon.Q1.astype('int64')"
   ]
  },
  {
   "cell_type": "markdown",
   "metadata": {},
   "source": [
    "<H3> Обработка ответов Q2"
   ]
  },
  {
   "cell_type": "code",
   "execution_count": null,
   "metadata": {},
   "outputs": [],
   "source": [
    "def func(string):\n",
    "    \n",
    "    s = re.findall('(^|[^0-9])([1-7])(\\,|$)', string)\n",
    "    s = [x[1] for x in s]\n",
    "    d = {}\n",
    "    for k in s:        \n",
    "        d[\"Q2_\"+ k] = 1\n",
    "    return d"
   ]
  },
  {
   "cell_type": "code",
   "execution_count": null,
   "metadata": {},
   "outputs": [],
   "source": [
    "df_megafon.head()"
   ]
  },
  {
   "cell_type": "code",
   "execution_count": null,
   "metadata": {},
   "outputs": [],
   "source": [
    "#переводим двойные ответы \n",
    "Q2_df = df_megafon.Q2.astype(str).apply(func).apply(pd.Series)"
   ]
  },
  {
   "cell_type": "code",
   "execution_count": null,
   "metadata": {},
   "outputs": [],
   "source": [
    "Q2_df = Q2_df[[\"Q2_1\", \"Q2_2\", \"Q2_3\", \"Q2_4\", \"Q2_5\", \"Q2_6\", \"Q2_7\"]]\n",
    "Q2_df "
   ]
  },
  {
   "cell_type": "code",
   "execution_count": null,
   "metadata": {},
   "outputs": [],
   "source": [
    "#объединим датафреймы\n",
    "df_megafon_clear = pd.concat([df_megafon, Q2_df], axis=1)\n",
    "#удалим колонку Q2 т.к. мы перевели её в немного другой вид.\n",
    "df_megafon_clear.drop(\"Q2\", axis=1, inplace=True)\n",
    "\n",
    "#заменим NA на 0\n",
    "df_megafon_clear.fillna(0, inplace=True)"
   ]
  },
  {
   "cell_type": "code",
   "execution_count": null,
   "metadata": {},
   "outputs": [],
   "source": [
    "df_megafon_clear.head(3)"
   ]
  },
  {
   "cell_type": "code",
   "execution_count": null,
   "metadata": {},
   "outputs": [],
   "source": [
    "#выпишем список основных параметров из таблицы\n",
    "features = ['Q1', 'Total Traffic(MB)',\n",
    "'Downlink Throughput(Kbps)',\n",
    "'Uplink Throughput(Kbps)',\n",
    "'Downlink TCP Retransmission Rate(%)',\n",
    "'Video Streaming Download Throughput(Kbps)',\n",
    "'Video Streaming xKB Start Delay(ms)',\n",
    "'Web Page Download Throughput(Kbps)',\n",
    "'Web Average TCP RTT(ms)']"
   ]
  },
  {
   "cell_type": "markdown",
   "metadata": {},
   "source": [
    "Построим боксплоты по всем интересующим нас колонкам."
   ]
  },
  {
   "cell_type": "code",
   "execution_count": null,
   "metadata": {
    "scrolled": true
   },
   "outputs": [],
   "source": [
    "fig,ax = plt.subplots(9,1,figsize=(18,20))\n",
    "count = 0\n",
    "for i in features:\n",
    "    sns.boxplot(data=df_megafon_clear[[i]], ax=ax[count], orient=\"h\")\n",
    "    count+=1\n",
    "fig.suptitle(\"Диаграммы размаха по всем аттрибутам в таблице\", y=0.9, fontsize=22)\n",
    "plt.show()"
   ]
  },
  {
   "cell_type": "markdown",
   "metadata": {},
   "source": [
    "Видим что в данных очень много выбросов поэтому избавимся от них"
   ]
  },
  {
   "cell_type": "code",
   "execution_count": null,
   "metadata": {},
   "outputs": [],
   "source": [
    "# отделяем колонки с вопросами чтобы не мешали в преобразовании\n",
    "col_q = df_megafon_clear.loc[:,['Q1','Q2_1','Q2_2','Q2_3','Q2_4','Q2_5','Q2_6','Q2_7']]"
   ]
  },
  {
   "cell_type": "code",
   "execution_count": null,
   "metadata": {},
   "outputs": [],
   "source": [
    "# функция для замены выбросов на средние значения\n",
    "def replace(group):\n",
    "    mean, std = group.mean(), group.std()\n",
    "    outliers = (group - mean).abs() > 3*std\n",
    "    group[outliers] = mean\n",
    "    return group"
   ]
  },
  {
   "cell_type": "code",
   "execution_count": null,
   "metadata": {},
   "outputs": [],
   "source": [
    "#заменяем выбросы средними значениями\n",
    "df_megafon_clear.drop(['Q2_1','Q2_2','Q2_3','Q2_4','Q2_5','Q2_6','Q2_7'], axis = 1, inplace=True)\n",
    "df_megafon_del_outliers = df_megafon_clear.groupby('Q1').transform(replace)\n",
    "df_megafon_del_outliers.head()"
   ]
  },
  {
   "cell_type": "code",
   "execution_count": null,
   "metadata": {},
   "outputs": [],
   "source": [
    "#соединаяем датарейм с оценками и датафрейм с показателями и отбрасываем колонку user_id\n",
    "df_megafon_clear_res = pd.concat([df_megafon_del_outliers, col_q], axis = 1).drop('user_id', axis = 1).copy()\n",
    "df_megafon_clear_res.head()"
   ]
  },
  {
   "cell_type": "code",
   "execution_count": null,
   "metadata": {},
   "outputs": [],
   "source": [
    "#взглянем на получившиеся гистограммы по различным параметрам\n",
    "paper = go.Figure()\n",
    "palette = px.colors.sequential.Viridis_r\n",
    "\n",
    "start_col = features[0]\n",
    "colors = iter([palette[i] if i < len(palette) else palette[i % len(palette)] for i in range(len(features))])\n",
    "for col in features:\n",
    "    \n",
    "    visible = False if col != start_col else True\n",
    "    \n",
    "    paper.add_trace(go.Histogram(x=df_megafon_clear_res[col],\n",
    "                                 opacity=0.9,\n",
    "                                 marker_color=next(colors),\n",
    "                                 marker_line_color='white',\n",
    "                                 marker_line_width=.8,\n",
    "                                 visible=visible,\n",
    "                                 name=col))\n",
    "\n",
    "n = len(paper.data)\n",
    "mysteps = [None] * n\n",
    "for i in range(n):  \n",
    "    tmp = [True if i == j else False for j in range(n)]\n",
    "    step = dict(method=\"update\", args=[{'visible': tmp}, {'title.text': paper.data[i].name}], label=f'{i + 1}')\n",
    "    mysteps[i] = step\n",
    "\n",
    "paper.update_layout(sliders=[dict(steps=mysteps)], title={'text': features[0]}, title_x=0.5)\n",
    "\n",
    "paper.show()"
   ]
  },
  {
   "cell_type": "markdown",
   "metadata": {},
   "source": [
    "<H4> На этом этап очистки можно завершить и переходить к разведочному анализу данных"
   ]
  },
  {
   "cell_type": "markdown",
   "metadata": {},
   "source": [
    "<H1><center>2.Разведочный анализ данных"
   ]
  },
  {
   "cell_type": "code",
   "execution_count": null,
   "metadata": {},
   "outputs": [],
   "source": [
    "#взглянем на датафрейм получившийся после очистки данных\n",
    "df_megafon_clear_res.head()"
   ]
  },
  {
   "cell_type": "markdown",
   "metadata": {},
   "source": [
    "Построим линейный график зависимостей основных технических показателей связи от оценок"
   ]
  },
  {
   "cell_type": "code",
   "execution_count": null,
   "metadata": {
    "scrolled": false
   },
   "outputs": [],
   "source": [
    "df_groupby_Q1 = df_megafon_clear_res[features].groupby(\"Q1\").mean() #группируем и вычисляем средние\n",
    "#графики зависимостей, средних значений по каждому признаку от оценки \n",
    "fig, axes = plt.subplots(4, 2, figsize=(40,50))\n",
    "row = 0\n",
    "column = 0\n",
    "for i in df_groupby_Q1.columns:\n",
    "    axes[row, column].plot(df_groupby_Q1.index, df_groupby_Q1[i], '-o', c='r')\n",
    "    axes[row, column].set_xlabel('Q1 value', fontsize=22)\n",
    "    axes[row, column].set_ylabel(i, fontsize=22)\n",
    "    axes[row, column].tick_params(labelsize=22) \n",
    "    axes[row, column].set_title(\"Зависимость оценки пользователя от \" + i, fontweight=\"bold\", fontstyle=\"italic\", fontsize=28)\n",
    "    axes[row, column].set_xticks([i for i in range(1, 11)])\n",
    "    axes[row, column].grid(color='b', linestyle='--', linewidth=0.5)\n",
    "    row += 1\n",
    "    if row > 3:\n",
    "        row = 0\n",
    "        column += 1\n",
    "    \n",
    "plt.tight_layout()\n",
    "plt.show()"
   ]
  },
  {
   "cell_type": "markdown",
   "metadata": {},
   "source": [
    "На этих графиках видно, что многие из значений имеют убывающие или восходящие тренды, но даже среди близкостоящих оценок, эти показатели зачастую очень изменчивы. В связи с чем я считаю, что 10 это слишком большое количество оценок и необходимо объединить всё в 3 группы: 1-3 - плохо(1), 4-8-удовлетворительно(2), 9-10-хорошо(3)"
   ]
  },
  {
   "cell_type": "code",
   "execution_count": null,
   "metadata": {},
   "outputs": [],
   "source": [
    "#создаём функцию заменяющую x на нужное\n",
    "def rank (x):\n",
    "    if 1<= x <= 3:\n",
    "        return 1\n",
    "    elif 4 <= x <= 8:\n",
    "         return 2\n",
    "    else:\n",
    "        return 3"
   ]
  },
  {
   "cell_type": "code",
   "execution_count": null,
   "metadata": {
    "scrolled": false
   },
   "outputs": [],
   "source": [
    "#создаём колонку где будет всего 3 оценки\n",
    "df_megafon_clear_res[\"Q1_3mark\"] = df_megafon_clear_res[\"Q1\"].apply(lambda x: rank(x))\n",
    "df_megafon_clear_full_3m = df_megafon_clear_res.copy(deep=True)\n",
    "df_megafon_clear_full_3m.head()"
   ]
  },
  {
   "cell_type": "code",
   "execution_count": null,
   "metadata": {},
   "outputs": [],
   "source": [
    "features_2 = ['Q1_3mark', 'Total Traffic(MB)',\n",
    "'Downlink Throughput(Kbps)',\n",
    "'Uplink Throughput(Kbps)',\n",
    "'Downlink TCP Retransmission Rate(%)',\n",
    "'Video Streaming Download Throughput(Kbps)',\n",
    "'Video Streaming xKB Start Delay(ms)',\n",
    "'Web Page Download Throughput(Kbps)',\n",
    "'Web Average TCP RTT(ms)']"
   ]
  },
  {
   "cell_type": "code",
   "execution_count": null,
   "metadata": {
    "scrolled": false
   },
   "outputs": [],
   "source": [
    "#сгруппируем данные на основании оценок и возьмем их средние\n",
    "df_groupby_Q1_3m = df_megafon_clear_full_3m[features_2].groupby(\"Q1_3mark\").mean()\n",
    "\n",
    "#графики зависимостей, средних значений по каждому признаку от оценки для 3-ёх оценок \n",
    "fig, axes = plt.subplots(4, 2, figsize=(40,50))\n",
    "row = 0\n",
    "column = 0\n",
    "for i in df_groupby_Q1_3m.columns:\n",
    "    axes[row, column].plot(df_groupby_Q1_3m.index, df_groupby_Q1_3m[i], '-o', c='r')\n",
    "    axes[row, column].set_xlabel('Q1 value', fontsize=26)\n",
    "    axes[row, column].set_ylabel(i, fontsize=26)\n",
    "    axes[row, column].tick_params(labelsize=26) \n",
    "    axes[row, column].set_title(\"Зависимость оценки пользователя от \" + i, fontweight=\"bold\", fontstyle=\"italic\", fontsize=30)\n",
    "    axes[row, column].set_xticks([i for i in range(1, 4)])\n",
    "    axes[row, column].grid(color='b', linestyle='--', linewidth=0.5)\n",
    "    row += 1\n",
    "    if row > 3:\n",
    "        row = 0\n",
    "        column += 1\n",
    "    \n",
    "plt.tight_layout()\n",
    "plt.show()"
   ]
  },
  {
   "cell_type": "markdown",
   "metadata": {},
   "source": [
    "Теперь можно увидеть, что для всех параметров сети существует чёткая зависимость между их средними значениями и оценкой."
   ]
  },
  {
   "cell_type": "markdown",
   "metadata": {},
   "source": [
    "Используя измененные оценки построим матрицу корреляции."
   ]
  },
  {
   "cell_type": "code",
   "execution_count": null,
   "metadata": {
    "scrolled": false
   },
   "outputs": [],
   "source": [
    "#отрисуем корреляционную матрицу\n",
    "colormap = plt.cm.RdBu \n",
    "plt.figure(figsize=(10,10)) \n",
    "plt.title('Pearson Correlation', y=1.05, size=15)\n",
    "sns.heatmap(df_megafon_clear_full_3m[features_2].astype(float).corr(),linewidths=0.1,vmax=1.0, square=True, cmap=colormap, linecolor='white', annot=True)\n",
    "plt.show()"
   ]
  },
  {
   "cell_type": "markdown",
   "metadata": {},
   "source": [
    "Наблюдается заметная корреляция между показателями DownlinkThroghput(Kbps) и Video Streaming Download Throughput(Kbps)это в принципе и логично, что если средняя загрузка по всем данным у абонента высокая, то и потоковое видео скорее всего будет грузится, тоже быстро."
   ]
  },
  {
   "cell_type": "code",
   "execution_count": null,
   "metadata": {},
   "outputs": [],
   "source": [
    "features_3 = ['Total Traffic(MB)',\n",
    "'Downlink Throughput(Kbps)',\n",
    "'Uplink Throughput(Kbps)',\n",
    "'Downlink TCP Retransmission Rate(%)',\n",
    "'Video Streaming Download Throughput(Kbps)',\n",
    "'Video Streaming xKB Start Delay(ms)',\n",
    "'Web Page Download Throughput(Kbps)',\n",
    "'Web Average TCP RTT(ms)']"
   ]
  },
  {
   "cell_type": "code",
   "execution_count": null,
   "metadata": {
    "scrolled": false
   },
   "outputs": [],
   "source": [
    "# взглянем на средние показатели \n",
    "fig, axs = plt.subplots(figsize=(20, 10), nrows=2, ncols=len(features_3) // 2, sharex=True)\n",
    "\n",
    "for col, ax in zip(features_3, axs.ravel()):\n",
    "    data  = df_megafon_clear_full_3m[[col]][col]\n",
    "    qqplot(data=data, fit=True, line='q', ax=ax)\n",
    "    \n",
    "    ax.set_title(col, fontsize=14)\n",
    "    \n",
    "    ax.set_ylabel('Sample Quantilies' if col in (features_3[0], features_3[len(features_3) // 2]) else None, fontsize=14)\n",
    "    ax.set_xlabel('Norm Quantilies' if col in features_3[len(features_3) // 2:] else None, fontsize=14)\n",
    "    \n",
    "    ax.xaxis.set_tick_params(labelsize=12)\n",
    "    ax.yaxis.set_tick_params(labelsize=12)\n",
    "\n",
    "  \n",
    "    \n",
    "plt.show()"
   ]
  },
  {
   "cell_type": "markdown",
   "metadata": {},
   "source": [
    "Видим, что распределения по основным показателям не соответствуют нормальным, левые и правые хвосты выбиваются из нормального тренда."
   ]
  },
  {
   "cell_type": "markdown",
   "metadata": {},
   "source": [
    "Теперь посчитам средние и медианы по трём оценкам \"плохо\", \"удовлетворительно\", \"хорошо\""
   ]
  },
  {
   "cell_type": "code",
   "execution_count": null,
   "metadata": {},
   "outputs": [],
   "source": [
    "features_4 = [\"Total Traffic(MB)\", \"Downlink Throughput(Kbps)\", \"Uplink Throughput(Kbps)\", \n",
    "              \"Downlink TCP Retransmission Rate(%)\", \"Video Streaming Download Throughput(Kbps)\", \n",
    "              \"Video Streaming xKB Start Delay(ms)\", \"Web Page Download Throughput(Kbps)\",\n",
    "              \"Web Average TCP RTT(ms)\", \"Q1_3mark\"]"
   ]
  },
  {
   "cell_type": "code",
   "execution_count": null,
   "metadata": {},
   "outputs": [],
   "source": [
    "df_megafon = df_megafon_clear_full_3m[features_4].copy() #делаем копию датафрейма\n",
    "df_megafon.head()"
   ]
  },
  {
   "cell_type": "code",
   "execution_count": null,
   "metadata": {},
   "outputs": [],
   "source": [
    "# сгруппируем по баллу и посчитаем среднее значение в каждой группе \n",
    "mark_mean = df_megafon.groupby('Q1_3mark').mean().reset_index()\n",
    "mark_mean"
   ]
  },
  {
   "cell_type": "code",
   "execution_count": null,
   "metadata": {
    "scrolled": true
   },
   "outputs": [],
   "source": [
    "# построим графики и отметим на них средние показатели по всем техническим показателям, \n",
    "# а так же рассчитаем процентную разницу между максимальным и минимальным показателем \n",
    "\n",
    "d = {} # словарь для хранения значений процентной разницы и показателя \n",
    "for i in mark_mean.iloc[:, 1:]:  # циклом находим разницу между минимальным и максимальным значением средних \n",
    "    y = mark_mean[i]\n",
    "    x = mark_mean['Q1_3mark']\n",
    "    xmin = mark_mean.loc[mark_mean[i] == mark_mean[i].min(), 'Q1_3mark'].reset_index()['Q1_3mark'][0] # это для графика \n",
    "    xmax = mark_mean.loc[mark_mean[i] == mark_mean[i].max(), 'Q1_3mark'].reset_index()['Q1_3mark'][0] # это для графика\n",
    "    diff = ((y.max() - y.min()) / y.min()) * 100\n",
    "    d[i] = round(diff, 2)\n",
    "\n",
    "    fig,ax = plt.subplots(figsize=(9,5))\n",
    "    sns.barplot(x=x, y=y, palette = 'mako_r' )\n",
    "    plt.title(f'Средний показатель {i} в группах с различными баллами \\n \\\n",
    "                разница между min и max = {round(diff,2)}%', fontsize = 12, fontweight = 'bold', pad = 15)\n",
    "    plt.xlabel('Балл')\n",
    "    plt.hlines(y = mark_mean[i].min(), xmin = xmin-0.5, xmax = xmin - 1.5, color= 'g', linestyle= '-.')\n",
    "    plt.hlines(y = mark_mean[i].max(), xmin = xmax-0.5, xmax = xmax - 1.5, color= 'r', linestyle= '-.')\n",
    "    plt.show()\n",
    "    l=sorted(d.items(), key=lambda x: x[1]) # сортируем словарь\n",
    "    \n",
    "    \n",
    "print(f'Максимальная разница в {l[-1]}')"
   ]
  },
  {
   "cell_type": "code",
   "execution_count": null,
   "metadata": {},
   "outputs": [],
   "source": [
    "# сгруппируем по баллу и посчитаем среднее значение в каждой группе \n",
    "mark_median = df_megafon.groupby('Q1_3mark').median().reset_index()\n",
    "mark_median"
   ]
  },
  {
   "cell_type": "code",
   "execution_count": null,
   "metadata": {
    "scrolled": true
   },
   "outputs": [],
   "source": [
    "# построим графики и отметим на них средние показатели по всем техническим показателям, \n",
    "# а так же рассчитаем процентную разницу между максимальным и минимальным показателем \n",
    "\n",
    "d = {} # словарь для хранения значений процентной разницы и показателя \n",
    "for i in mark_median.iloc[:, 1:]:  # циклом находим разницу между минимальным и максимальным значением средних \n",
    "    y = mark_median[i]\n",
    "    x = mark_median['Q1_3mark']\n",
    "    xmin = mark_median.loc[mark_median[i] == mark_median[i].min(), 'Q1_3mark'].reset_index()['Q1_3mark'][0] # это для графика \n",
    "    xmax = mark_median.loc[mark_median[i] == mark_median[i].max(), 'Q1_3mark'].reset_index()['Q1_3mark'][0] # это для графика\n",
    "    diff = ((y.max() - y.min()) / y.min()) * 100\n",
    "    d[i] = round(diff, 2)\n",
    "\n",
    "    fig,ax = plt.subplots(figsize=(9,5))\n",
    "    sns.barplot(x=x, y=y, palette = 'mako_r' )\n",
    "    plt.title(f'Средний показатель {i} в группах с различными баллами \\n \\\n",
    "                разница между min и max = {round(diff,2)}%', fontsize = 12, fontweight = 'bold', pad = 15)\n",
    "    plt.xlabel('Балл')\n",
    "    plt.hlines(y = mark_median[i].min(), xmin = xmin-0.5, xmax = xmin - 1.5, color= 'g', linestyle= '-.')\n",
    "    plt.hlines(y = mark_median[i].max(), xmin = xmax-0.5, xmax = xmax - 1.5, color= 'r', linestyle= '-.')\n",
    "    plt.show()\n",
    "    l=sorted(d.items(), key=lambda x: x[1]) # сортируем словарь\n",
    "    \n",
    "print(f'Максимальная разница в {l[-1]}')"
   ]
  },
  {
   "cell_type": "markdown",
   "metadata": {},
   "source": [
    "### 3 значения с наибольшей разницей средних плохих и хороших оценок:\n",
    "\n",
    "1) Downlink Throughput(Kbps),  40.78%\n",
    "2) Web Average TCP RTT(ms)  34.91%\n",
    "3) Video Streaming Download Throughput(Kbps)  32.2%\n",
    "\n",
    "### 3 значения с наибольшей разницей медиан плохих и хороших оценок: \n",
    "\n",
    "1) Downlink Throughput(Kbps), 44.62 %\n",
    "2) Video Streaming Download Throughput(Kbps) 32.2 %\n",
    "3) Web Average TCP RTT(ms) 31.43 %"
   ]
  },
  {
   "cell_type": "markdown",
   "metadata": {},
   "source": [
    "### На основании этих значений проведём статистические тесты, чтобы проверить действительно ли они влияют на оценки поставленные абонентом."
   ]
  },
  {
   "cell_type": "code",
   "execution_count": null,
   "metadata": {},
   "outputs": [],
   "source": [
    "# canvas = FigureCanvasAgg(fig)\n",
    "# fig.canvas.draw()\n",
    "# renderer = fig._cachedRenderer\n",
    "# tightbox = fig.get_tightbbox(renderer)\n",
    "# w,h = fig.get_size_inches()\n",
    "# bbox = Bbox.from_extents(min(tightbox.x0, 0), min(tightbox.y0, 0), max(tightbox.x1, w), max(tightbox.y1, h))\n",
    "# plt.savefig('QQ_plots.png', bbox_inches=bbox)  "
   ]
  },
  {
   "cell_type": "markdown",
   "metadata": {},
   "source": [
    "<H3><center>3.Статистический тест"
   ]
  },
  {
   "cell_type": "markdown",
   "metadata": {},
   "source": [
    "Т.к. распределения значений в выборках отличаются от нормальных, то параметрические критерии такие как Ttest Стъюдента использовать нельзя, выбор стоял между непараметрическим критерием Мана-Уитни и бутстрэпом. В конечном счёте я остановился на бутстрэпе т.к. для использования критерия Мана-Уитни в данных не должно быть совпадающих значений или их должно быть очень мало, а это может стать ограничением в отличии от бутстрэпа который таких ограничений не имеет."
   ]
  },
  {
   "cell_type": "markdown",
   "metadata": {},
   "source": [
    "Выше мы уже разделили наши данные на три группы исходя из оценок, плохо(1-3(1)), удовлетворительно(3-8(2)), отлично(9-10(3)). Теперь разделим эти данные по отдельным датасетам для удобства использования."
   ]
  },
  {
   "cell_type": "code",
   "execution_count": null,
   "metadata": {},
   "outputs": [],
   "source": [
    "groupA = df_megafon_clear_full_3m[df_megafon_clear_full_3m['Q1_3mark']==1]#группа с плохими оценками\n",
    "groupB = df_megafon_clear_full_3m[df_megafon_clear_full_3m['Q1_3mark']==2]#группа с удовлетворительными оценками\n",
    "groupC = df_megafon_clear_full_3m[df_megafon_clear_full_3m['Q1_3mark']==3]#группа с отлчными оценками"
   ]
  },
  {
   "cell_type": "markdown",
   "metadata": {},
   "source": [
    "Для проведения статистических тестов предлагаю взять GroupA и GroupC как наиболее отличающиейся"
   ]
  },
  {
   "cell_type": "markdown",
   "metadata": {},
   "source": [
    "* Для начала анализа отберем столбцы значения в которых можно описать как \"Чем меньше, тем лучше\""
   ]
  },
  {
   "cell_type": "code",
   "execution_count": null,
   "metadata": {},
   "outputs": [],
   "source": [
    "min_best = df_megafon_clear_full_3m.loc[:, ['Q1_3mark','Downlink TCP Retransmission Rate(%)', 'Video Streaming xKB Start Delay(ms)', 'Web Average TCP RTT(ms)']]\n",
    "min_best.head()"
   ]
  },
  {
   "cell_type": "code",
   "execution_count": null,
   "metadata": {},
   "outputs": [],
   "source": [
    "# посмотрим как различаются среднее по отобранным показателям  \n",
    "plot_df = min_best.groupby(['Q1_3mark']).agg({'mean'})\n",
    "plot_df.columns = plot_df.columns.droplevel([1])\n",
    "\n",
    "\n",
    "plot_df = pd.pivot_table(plot_df, columns=['Q1_3mark'])\n",
    "plot_df[\"decrease\"] = plot_df[3]/plot_df[1] #соотношение значений в группе с хорошими значениями и в группе \n",
    "                                            # отличными значениями\n",
    "\n",
    "plot_df"
   ]
  },
  {
   "cell_type": "markdown",
   "metadata": {},
   "source": [
    "Средние значения для Web Average TCP RTT(ms) для первой(плохо) и третье(хорошо) группы отличаются сильнее всего. Предположим, что из-за большего пинга при просмотре web-страниц клиенты могут ставить низкие оценки, тоже самое показал и заведочный анализ. Сформируем нулевую гипотезу и проверим её: \n",
    "- Но: между группами разницы нет, пинг не влияет на оценку, которую поставили респонденты\n",
    "- Н1: между группами разница есть, пинг влияет на оценку, которую поставили респонденты "
   ]
  },
  {
   "cell_type": "markdown",
   "metadata": {},
   "source": [
    "${H_{0}: WA_{bad}=WA_{perfect}}$"
   ]
  },
  {
   "cell_type": "code",
   "execution_count": null,
   "metadata": {},
   "outputs": [],
   "source": [
    "# функция бутстрапа \n",
    "def bootstrap(arr,n=100,N_TRIAL = 1000,func = np.mean):\n",
    "    res = []\n",
    "    n = min(len(arr),n)\n",
    "    # инициализируем цикл попыток\n",
    "    for _ in range(N_TRIAL):\n",
    "        # делаем подвыборку размера n\n",
    "        if len(arr.shape)>1:\n",
    "            ind = np.random.choice(np.arange(arr.shape[0]), size = (n,))\n",
    "            subsample = arr.iloc[ind]\n",
    "        else:\n",
    "            subsample = np.random.choice(arr, size = (n,))\n",
    "        # рассчитываем статистику\n",
    "        stat = func(subsample)\n",
    "        res.append(stat)\n",
    "    return res "
   ]
  },
  {
   "cell_type": "code",
   "execution_count": null,
   "metadata": {
    "scrolled": true
   },
   "outputs": [],
   "source": [
    "# применим функцию бутстрапа, отобразим распределение и доверительные интервалы \n",
    "samples_a_1 = bootstrap(groupA['Web Average TCP RTT(ms)'], N_TRIAL = 2000)\n",
    "samples_c_1 = bootstrap(groupC['Web Average TCP RTT(ms)'], N_TRIAL = 2000)"
   ]
  },
  {
   "cell_type": "code",
   "execution_count": null,
   "metadata": {},
   "outputs": [],
   "source": [
    "# найдем разницу выборочных средних\n",
    "buf = []\n",
    "for i in range(1000):\n",
    "    a_sample_1 =  groupA['Web Average TCP RTT(ms)'].sample(200)\n",
    "    c_sample_1 =  groupC['Web Average TCP RTT(ms)'].sample(200)\n",
    "    \n",
    "    buf.append(np.mean(c_sample_1)-np.mean(a_sample_1))"
   ]
  },
  {
   "cell_type": "code",
   "execution_count": null,
   "metadata": {
    "scrolled": false
   },
   "outputs": [],
   "source": [
    "# Инициализация полотна\n",
    "fig, ax = plt.subplots(1, 2, figsize=(20, 8))\n",
    "fig.suptitle(\"Бутстрэп\", y=1.05, fontsize=24)\n",
    "\n",
    "# Графики распределения по группам А и Б\n",
    "sns.histplot(samples_a_1, alpha=.8, ax=ax[0], kde=True, stat='density')\n",
    "sns.histplot(samples_c_1, color='orange', alpha=.8, ax=ax[0], kde=True, stat='density')\n",
    "\n",
    " # Интервалы и медиана\n",
    "ax[0].axvline(np.percentile(samples_a_1, 2.5), linestyle='--', color='cornflowerblue', linewidth=2)\n",
    "ax[0].axvline(np.percentile(samples_a_1, 97.5), linestyle='--', color='cornflowerblue', linewidth=2)\n",
    "ax[0].axvline(np.percentile(samples_c_1, 2.5), linestyle='--', color='orange', linewidth=2)\n",
    "ax[0].axvline(np.percentile(samples_c_1, 97.5), linestyle='--', color='orange', linewidth=2)\n",
    "ax[0].set_title('Плотность распределения по группам \\n с хорошими и плохими оценками', fontsize=14)\n",
    "ax[0].set_ylabel('Плотность')\n",
    "ax[0].set_xlabel(\"Бутстрэп\")\n",
    "blue_patch = mpatches.Patch(color='cornflowerblue', label='Плохие')\n",
    "orange_patch = mpatches.Patch(color='orange', label='Хорошие')\n",
    "\n",
    "ax[0].legend(handles=[blue_patch, orange_patch])\n",
    "    \n",
    "# График распределения разности по группам А и Б\n",
    "sns.histplot(buf, alpha=.8, ax=ax[1], kde=True, stat='density', color='g')\n",
    "# Интервалы и медиана\n",
    "ax[1].axvline(np.percentile(buf, 2.5), linestyle='-', color='b', linewidth=2)\n",
    "ax[1].axvline(np.percentile(buf, 97.5), linestyle='-', color='b', linewidth=2)\n",
    "ax[1].axvline(0, linestyle='--', color='r', linewidth=3)\n",
    "ax[1].set_title('Плотность разницы средних', fontsize=14)\n",
    "ax[1].set_ylabel('Плотность')\n",
    "plt.show()\n"
   ]
  },
  {
   "cell_type": "markdown",
   "metadata": {},
   "source": [
    "Проведем статистический тест на данных которые были отобраны но без применения бутстрапа.\n",
    "\n",
    "Для этого мы применим критерий U-критерий Манна — Уитни непараметрический статистический критерий, используемый для оценки различий между двумя выборками по признаку, измеренному в количественной или порядковой шкале. Данный критерий является непараметрическим аналогом t-теста, он не требователен к распределению, можно пренебречь равенством дисперсий и размеры групп могут быть различны. \n",
    "\n",
    "Ограничения применимости критерия.\n",
    "- В каждой из выборок должно быть не менее 5 значений признака. \n",
    "- В выборочных данных не должно быть совпадающих значений или таких совпадений должно быть мало."
   ]
  },
  {
   "cell_type": "code",
   "execution_count": null,
   "metadata": {},
   "outputs": [],
   "source": [
    "# применим тесты МанаУитни\n",
    "stat, p = mannwhitneyu(samples_a_1, samples_c_1)\n",
    "print(f'Statistics={stat}, p_value={round(p,4)}')"
   ]
  },
  {
   "cell_type": "markdown",
   "metadata": {},
   "source": [
    "<H3> Вывод:  Ноль не входит доверительный интервал, p_value< 0.05, значит мы можем утверждать что оценка качества связи зависит от пинга при просмотре web-страниц. Web Average TCP RTT(ms))"
   ]
  },
  {
   "cell_type": "markdown",
   "metadata": {},
   "source": [
    "Отберем значения показания которых можно охарактеризовать \"чем выше, тем лучше\"."
   ]
  },
  {
   "cell_type": "code",
   "execution_count": null,
   "metadata": {},
   "outputs": [],
   "source": [
    "max_best = df_megafon_clear_full_3m.loc[:, ['Q1_3mark','Total Traffic(MB)', 'Downlink Throughput(Kbps)', 'Uplink Throughput(Kbps)', \n",
    "                      'Video Streaming Download Throughput(Kbps)', 'Web Page Download Throughput(Kbps)']]\n",
    "max_best.head()"
   ]
  },
  {
   "cell_type": "code",
   "execution_count": null,
   "metadata": {},
   "outputs": [],
   "source": [
    "# посмотрим как различаются среднее по отобранным показателям  \n",
    "plot_df_2 = max_best.groupby(['Q1_3mark']).agg({'mean'})\n",
    "plot_df_2.columns = plot_df_2.columns.droplevel([1])\n",
    "\n",
    "\n",
    "plot_df_2 = pd.pivot_table(plot_df_2, columns=['Q1_3mark'])\n",
    "plot_df_2[\"increase\"] = plot_df_2[3]/plot_df_2[1] #соотношение значений в группе с плохими значениями и в группе \n",
    "                                            #с отличными значениями\n",
    "\n",
    "\n",
    "plot_df_2"
   ]
  },
  {
   "cell_type": "markdown",
   "metadata": {},
   "source": [
    "Наибольшее соотношение между показателями для хороших и плохих оценок находится для показателя 'Downlink Throughput(Kbps) Разведочный анализ так же показал, что разница средних и медиан в группе с плохими и хорошими оценками отличается более чем на 40 процентов. Возьмем для статистического теста этот показатель."
   ]
  },
  {
   "cell_type": "markdown",
   "metadata": {},
   "source": [
    "Предположим, что различия в показателе Downlink Throughput(Kbps) оказывают влияние на оценку респондентов.\n",
    "\n",
    "- Но: между группами разницы нет, разница в скорости загрузки потокового видео не влияет на оценку, которую поставили респонденты\n",
    "- Н1: между группами разница есть, скорость загрузки влияет на оценку, которую поставили респонденты "
   ]
  },
  {
   "cell_type": "code",
   "execution_count": null,
   "metadata": {},
   "outputs": [],
   "source": [
    "# применим функцию бутстрапа, отобразим распределение и доверительные интервалы \n",
    "samples_a = bootstrap(groupA['Downlink Throughput(Kbps)'], N_TRIAL = 2000)\n",
    "samples_c = bootstrap(groupC['Downlink Throughput(Kbps)'], N_TRIAL = 2000)\n",
    "\n",
    "# Инициализация полотна\n",
    "fig, ax = plt.subplots(1, 2, figsize=(20, 8))\n",
    "fig.suptitle(\"Бутстрэп\", y=1.0, fontsize=24)\n",
    "\n",
    "# Графики распределения по группам А и Б\n",
    "sns.histplot(samples_a, alpha=.8, ax=ax[0], kde=True, stat='density')\n",
    "sns.histplot(samples_c, color='orange', alpha=.8, ax=ax[0], kde=True, stat='density')\n",
    "\n",
    " # Интервалы и медиана\n",
    "ax[0].axvline(np.percentile(samples_a, 2.5), linestyle='--', color='cornflowerblue', linewidth=2)\n",
    "ax[0].axvline(np.percentile(samples_a, 97.5), linestyle='--', color='cornflowerblue', linewidth=2)\n",
    "#ax[0].axvline(np.median(samples_a), linestyle='--', color='r', linewidth=3)\n",
    "ax[0].axvline(np.percentile(samples_c, 2.5), linestyle='--', color='orange', linewidth=2)\n",
    "ax[0].axvline(np.percentile(samples_c, 97.5), linestyle='--', color='orange', linewidth=2)\n",
    "#ax[0].axvline(np.median(samples_c), linestyle='--', color='g', linewidth=3)\n",
    "ax[0].set_title('Плотность распределения по группам \\n с хорошими и плохими оценками', fontsize=14)\n",
    "ax[0].set_ylabel('Плотность')\n",
    "ax[0].set_xlabel(\"Бутстрэп\")\n",
    "blue_patch = mpatches.Patch(color='cornflowerblue', label='Плохие')\n",
    "orange_patch = mpatches.Patch(color='orange', label='Хорошие')\n",
    "\n",
    "ax[0].legend(handles=[blue_patch, orange_patch])\n",
    "    \n",
    "# График распределения разности по группам А и Б\n",
    "sns.histplot(buf, alpha=.8, ax=ax[1], kde=True, stat='density', color='g')\n",
    "# Интервалы и медиана\n",
    "ax[1].axvline(np.percentile(buf, 2.5), linestyle='-', color='b', linewidth=2)\n",
    "ax[1].axvline(np.percentile(buf, 97.5), linestyle='-', color='b', linewidth=2)\n",
    "ax[1].axvline(0, linestyle='--', color='r', linewidth=3)\n",
    "ax[1].set_title('Плотность разницы средних', fontsize=14)\n",
    "ax[1].set_ylabel('Плотность')\n",
    "plt.show()"
   ]
  },
  {
   "cell_type": "markdown",
   "metadata": {},
   "source": [
    "Проведем статистический тест на данных которые были отобраны но без применения бутстрапа.\n",
    "\n",
    "Для этого мы применим критерий U-критерий Манна — Уитни непараметрический статистический критерий, используемый для оценки различий между двумя выборками по признаку, измеренному в количественной или порядковой шкале. Данный критерий является непараметрическим аналогом t-теста, он не требователен к распределению, можно пренебречь равенством дисперсий и размеры групп могут быть различны. \n",
    "\n",
    "Ограничения применимости критерия.\n",
    "- В каждой из выборок должно быть не менее 5 значений признака. \n",
    "- В выборочных данных не должно быть совпадающих значений или таких совпадений должно быть мало."
   ]
  },
  {
   "cell_type": "code",
   "execution_count": null,
   "metadata": {},
   "outputs": [],
   "source": [
    "stat, p = mannwhitneyu(samples_a, samples_c)\n",
    "print(f'Statistics={stat}, p_value={round(p,4)}')"
   ]
  },
  {
   "cell_type": "markdown",
   "metadata": {},
   "source": [
    "<H3> Вывод: ноль не входит в доверительный интервал, а U-критерий Манна — Уитни показал p_value = 0, значит можно сделать вывод о том, что средняя скорость «к абоненту» влияет на оценку которую поставили респонденты. "
   ]
  },
  {
   "cell_type": "markdown",
   "metadata": {},
   "source": [
    "Ещё один параметр по значительно отличающийся по разнице средних это `Video Streaming Download Throughput(Kbps)`. Проим его тоже используя бутстрэп."
   ]
  },
  {
   "cell_type": "markdown",
   "metadata": {},
   "source": [
    "Предположим, что различия в показателе Video Streaming Download Throughput(Kbps) оказывают влияние на оценку респондентов.\n",
    "\n",
    "- Но: между группами разницы нет, разница в скорости загрузки потокового видео не влияет на оценку, которую поставили респонденты\n",
    "- Н1: между группами разница есть, скорость загрузки влияет на оценку, которую поставили респонденты "
   ]
  },
  {
   "cell_type": "markdown",
   "metadata": {},
   "source": [
    "${H_{0}: DT_{bad}=DT_{perfect}}$"
   ]
  },
  {
   "cell_type": "code",
   "execution_count": null,
   "metadata": {},
   "outputs": [],
   "source": [
    "# применим функцию бутстрапа, отобразим распределение и доверительные интервалы \n",
    "samples_a = bootstrap(groupA['Video Streaming Download Throughput(Kbps)'], N_TRIAL = 2000)\n",
    "samples_c = bootstrap(groupC['Video Streaming Download Throughput(Kbps)'], N_TRIAL = 2000)"
   ]
  },
  {
   "cell_type": "code",
   "execution_count": null,
   "metadata": {},
   "outputs": [],
   "source": [
    "# Инициализация полотна\n",
    "fig, ax = plt.subplots(1, 2, figsize=(20, 8))\n",
    "fig.suptitle(\"Бутстрэп\", y=1.0, fontsize=24)\n",
    "\n",
    "# Графики распределения по группам А и Б\n",
    "sns.histplot(samples_a, alpha=.8, ax=ax[0], kde=True, stat='density')\n",
    "sns.histplot(samples_c, color='orange', alpha=.8, ax=ax[0], kde=True, stat='density')\n",
    "\n",
    " # Интервалы и медиана\n",
    "ax[0].axvline(np.percentile(samples_a, 2.5), linestyle='--', color='cornflowerblue', linewidth=2)\n",
    "ax[0].axvline(np.percentile(samples_a, 97.5), linestyle='--', color='cornflowerblue', linewidth=2)\n",
    "#ax[0].axvline(np.median(samples_a), linestyle='--', color='r', linewidth=3)\n",
    "ax[0].axvline(np.percentile(samples_c, 2.5), linestyle='--', color='orange', linewidth=2)\n",
    "ax[0].axvline(np.percentile(samples_c, 97.5), linestyle='--', color='orange', linewidth=2)\n",
    "#ax[0].axvline(np.median(samples_c), linestyle='--', color='g', linewidth=3)\n",
    "ax[0].set_title('Плотность распределения по группам \\n с хорошими и плохими оценками', fontsize=14)\n",
    "ax[0].set_ylabel('Плотность')\n",
    "ax[0].set_xlabel(\"Бутстрэп\")\n",
    "blue_patch = mpatches.Patch(color='cornflowerblue', label='Плохие')\n",
    "orange_patch = mpatches.Patch(color='orange', label='Хорошие')\n",
    "\n",
    "ax[0].legend(handles=[blue_patch, orange_patch])\n",
    "    \n",
    "# График распределения разности по группам А и Б\n",
    "sns.histplot(buf, alpha=.8, ax=ax[1], kde=True, stat='density', color='g')\n",
    "# Интервалы и медиана\n",
    "ax[1].axvline(np.percentile(buf, 2.5), linestyle='-', color='b', linewidth=2)\n",
    "ax[1].axvline(np.percentile(buf, 97.5), linestyle='-', color='b', linewidth=2)\n",
    "ax[1].axvline(0, linestyle='--', color='r', linewidth=3)\n",
    "ax[1].set_title('Плотность разницы средних', fontsize=14)\n",
    "ax[1].set_ylabel('Плотность')\n",
    "plt.show()"
   ]
  },
  {
   "cell_type": "code",
   "execution_count": null,
   "metadata": {},
   "outputs": [],
   "source": [
    "stat, p = mannwhitneyu(samples_a, samples_c)\n",
    "print(f'Statistics={stat}, p_value={round(p,4)}')"
   ]
  },
  {
   "cell_type": "markdown",
   "metadata": {},
   "source": [
    "<H3> Вывод: ноль не входит в доверительный интервал, а U-критерий Манна — Уитни показал p_value = 0, значит можно сделать вывод о том, что Video Streaming Download Throughput(Kbps) влияет на оценку которую поставили респонденты. "
   ]
  },
  {
   "cell_type": "markdown",
   "metadata": {},
   "source": [
    "Применим H-критерий Краскела–Уоллиса для всех параметров – это непараметрический аналог однофакторного дисперсионного анализа. Также можно его считать расширением критерия суммы рангов Вилкоксона для более чем двух групп. Этот критерий проверяет гипотезу о равенстве медианы нескольких групп и не требует одинакового объема всех выборок. \n",
    "\n",
    "Тест Краскела-Уоллиса позволяет сделать заключение только следующего вида: либо \"сравниваемые группы статистически значимо различаются\" (например, при Р < 0.05), либо \"статистически значимых различий между группами нет\" (например, при Р > 0.05). Этот метод сам по себе не позволяет сказать, где именно лежат различия."
   ]
  },
  {
   "cell_type": "code",
   "execution_count": null,
   "metadata": {},
   "outputs": [],
   "source": [
    "features_4 = [\"Total Traffic(MB)\", \"Downlink Throughput(Kbps)\", \"Uplink Throughput(Kbps)\", \n",
    "              \"Downlink TCP Retransmission Rate(%)\", \"Video Streaming Download Throughput(Kbps)\", \n",
    "              \"Video Streaming xKB Start Delay(ms)\", \"Web Page Download Throughput(Kbps)\",\n",
    "              \"Web Average TCP RTT(ms)\"]"
   ]
  },
  {
   "cell_type": "code",
   "execution_count": null,
   "metadata": {},
   "outputs": [],
   "source": [
    "#возьмем для каждого показателя \n",
    "for i in features_4:  \n",
    "    A = groupA[i].values\n",
    "    B = groupB[i].values\n",
    "    C = groupC[i].values\n",
    "    stat, p = stats.kruskal(A, B, C)\n",
    "    print(f'H-statistic = {stat}, p_value = {round(p,4)}', i)"
   ]
  },
  {
   "cell_type": "markdown",
   "metadata": {},
   "source": [
    "<H3> Вывод: различия между группами с оценками \"плохо\", \"удовлетворительно\" и \"хорошо\" существуют, медианы групп статистически значимо различаются. За исключением показателя Total Traffic(MB)имеющего показатель Pvalue>0.05"
   ]
  },
  {
   "cell_type": "markdown",
   "metadata": {},
   "source": [
    "Теперь проведем тесты с ответами ответов Q2."
   ]
  },
  {
   "cell_type": "markdown",
   "metadata": {},
   "source": [
    "1. Недозвоны, обрывы при звонках\n",
    "2. Время ожидания гудков при звонке\n",
    "3. Плохое качество связи в зданиях, торговых центрах и т.п.\n",
    "4. Медленный мобильный Интернет\n",
    "5. Медленная загрузка видео\n",
    "6. Затрудняюсь ответить\n",
    "7. Свой вариант\n",
    "\n",
    "поделим ответы на второй вопрос по типу проблемы, предлагаю ввести такую классификацию"
   ]
  },
  {
   "cell_type": "markdown",
   "metadata": {},
   "source": [
    "1, 2, 3 - connection\n",
    "4, 5 - internet\n",
    "6, 7 - other"
   ]
  },
  {
   "cell_type": "markdown",
   "metadata": {},
   "source": [
    "Можно разделить пользователей на 2 группы в одной недовольные качеством связи (1,2,3), а во второй недовольные качеством интернета (4,5)"
   ]
  },
  {
   "cell_type": "code",
   "execution_count": null,
   "metadata": {},
   "outputs": [],
   "source": [
    "features = [\"Total Traffic(MB)\",\"Downlink Throughput(Kbps)\",\"Uplink Throughput(Kbps)\",\n",
    "              \"Downlink TCP Retransmission Rate(%)\",\"Video Streaming Download Throughput(Kbps)\",\n",
    "              \"Video Streaming xKB Start Delay(ms)\",\"Web Page Download Throughput(Kbps)\", \n",
    "              \"Web Average TCP RTT(ms)\"]"
   ]
  },
  {
   "cell_type": "code",
   "execution_count": null,
   "metadata": {},
   "outputs": [],
   "source": [
    "df_megafon_clear_res[\"connection\"] = df_megafon_clear_res[\"Q2_1\"] + df_megafon_clear_res[\"Q2_2\"] + \\\n",
    "                                    df_megafon_clear_res[\"Q2_3\"]\n",
    "df_megafon_clear_res[\"internet\"] = df_megafon_clear_res[\"Q2_4\"] + df_megafon_clear_res[\"Q2_5\"]\n",
    "\n",
    "connection_data = df_megafon_clear_res[(df_megafon_clear_res[\"connection\"]>0)&(df_megafon_clear_res[\"internet\"]==0)]\n",
    "internet_data = df_megafon_clear_res[(df_megafon_clear_res[\"internet\"]>0)&(df_megafon_clear_res[\"connection\"]==0)]"
   ]
  },
  {
   "cell_type": "code",
   "execution_count": null,
   "metadata": {},
   "outputs": [],
   "source": [
    "common = [\"Total Traffic(MB)\",\"Downlink Throughput(Kbps)\",\"Uplink Throughput(Kbps)\",\n",
    "            \"Downlink TCP Retransmission Rate(%)\",\"Video Streaming Download Throughput(Kbps)\",\n",
    "            \"Video Streaming xKB Start Delay(ms)\",\"Web Page Download Throughput(Kbps)\", \n",
    "            \"Web Average TCP RTT(ms)\"]"
   ]
  },
  {
   "cell_type": "code",
   "execution_count": null,
   "metadata": {},
   "outputs": [],
   "source": [
    "df_megafon_clear_con = connection_data[common] #датафрейм с ответами на вопрос Q2 с плохой связью\n",
    "df_megafon_clear_int = internet_data[common] #датафрейм с ответами на вопрос Q2 с плохим интернетом"
   ]
  },
  {
   "cell_type": "code",
   "execution_count": null,
   "metadata": {},
   "outputs": [],
   "source": [
    "#оценим получившиеся датафреймы "
   ]
  },
  {
   "cell_type": "code",
   "execution_count": null,
   "metadata": {},
   "outputs": [],
   "source": [
    "df_megafon_clear_int.describe() "
   ]
  },
  {
   "cell_type": "code",
   "execution_count": null,
   "metadata": {
    "scrolled": true
   },
   "outputs": [],
   "source": [
    "df_megafon_clear_con.describe()"
   ]
  },
  {
   "cell_type": "markdown",
   "metadata": {},
   "source": [
    "Проведем статистический тест по U-критерию Манна — Уитни по разным параметрам для датафрейма с оценками относящимися к плохому качеству соединения и датафрейм с плохим качеством соединения."
   ]
  },
  {
   "cell_type": "markdown",
   "metadata": {},
   "source": [
    "Предположим, что нет никакого различия между показателями в датафрейме ответы на второй вопрос в котором относятся к плохому качеству связи и датафрейму ответы на вопрос в котором относятся к плохому качеству интеренета\n",
    "\n",
    "* Но: между параметрами разницы нет\n",
    "* Н1: между параметрами разница есть и ответы зависят от технических параметров"
   ]
  },
  {
   "cell_type": "code",
   "execution_count": null,
   "metadata": {},
   "outputs": [],
   "source": [
    "#Тесты Мана-Уитни\n",
    "for i in common:\n",
    "    stat, p = mannwhitneyu(df_megafon_clear_con[i].values, df_megafon_clear_int[i].values)\n",
    "    print(f'Statistics={stat}, p_value={round(p,4)}', i)"
   ]
  },
  {
   "cell_type": "markdown",
   "metadata": {},
   "source": [
    "<H3> Вывод: наиболее заметная статистическая разница между показателями в группе с плохим интернетом и в группе с плохим качеством связи характерна для таких показателей как Video Streaming Download Throughput(Kbps) и Web Page Download Throughput(Kbps) т.е. для пользователей указавших в ответе на второй вопрос 4-ый и 5-ый вариант важнейшими показателями являются скорость загрузки потокового видео и скорость загрузки веб-страницы. Также статистически значимыми являются такие праметры, как пинг при просмотре web-страниц, задержка при старте воспроизведения видео и средняя скорость к абоненту. Показатели Показатели объем трафика передачи данных, частота переотправок пакетов «к абоненту» и средняя скорость «от абонента» практически не влияют или вляют слабо на удовлетворённость клиентов. практически не влияют на ответы или влияют плохо."
   ]
  },
  {
   "cell_type": "markdown",
   "metadata": {},
   "source": [
    "### Итоговые выводы и рекомендации для компании Мегафон:\n",
    "    \n",
    " * 1) Стоит изменить основные подходы к сбору данных, сделать фиксированные ответы, чтобы пользователь тратил меньше времени на ответ и не мог написать что-то некорректное. А также заменить десятибальную систему трёхбальной (плохо, удовлетворительно, отлично), т.к. десятибальная слишком сложна в обдумывании и пользователи всё равно чаще всего ставят либо 1 либо 10. Отеты Q2 стоит ограничить тремя вариантами 1) плохое качество связи 2) медленный интернет 3) Свой вариант.\n",
    " \n",
    " * 2) На оценку влияет слишком много факторов, одним из самых мощных недооценённых факторов, который никак не измерить является настроение абонента. Даже сама по себе просьба оценить качество связи может спровоцировать агрессию и раздражение, а также возможность получить низкую оценку хоть качество связи может оставаться высоким. В связи с чем необходимо выработать стандартные подходы к опросу, чтобы минимизировать влияние настроения. Во-первых опросы должны быть ненавязчивы, поэтому можно отправлять ссылку на такой вопрос в сообщении о пополнении баланса, во-вторых прошедшим опрос можно предложить какие-нибудь бонусы в виде бесплатных минут или скидки.\n",
    " \n",
    " * 3) К выбору технических показателей нуждающихся в улучшении нужно подходить комплексно. В целом для абонентов наиболее важным показателем является средняя скорость «к абоненту», для этого параметра самая большая разница средних для группы с низкими оценками и группы с высокими оценками, а также пинг при просмотре web-страниц и  скорость загрузки потокового видео.  Но если сравнивать абонентов которые недовольны качеством интернета и сравнить их с абонентами которые недовольны качеством связи, то важнейшими показателями являются скорость загрузки потокового видео, скорость загрузки веб-страницы. Вторыми по значимости являются такие праметры, как пинг при просмотре web-страниц, задержка при старте воспроизведения видео и средняя скорость к абоненту. Показатели объем трафика передачи данных, частота переотправок пакетов «к абоненту» и средняя скорость «от абонента» практически не влияют или вляют слабо на удовлетворённость клиентов. Если выбирать какой-то конкретный параметр который нужно улучшать, то я выбрал бы Downlink Throughput(Kbps) — средняя скорость «к абонента».\n",
    " \n",
    " * 4) Основная проблема заключается в том, что даже имея точную причину недовольства абонентов, нельзя просто взять и улучшить эти показатели подкрутив нужные шестерёнки. Решением может стать добавление в датафрейм, таких параметров, как координаты геолокации и информацией о тарифном плане используемом абонентом, в частности: цену за тариф, включенные в тариф услуги (минуты, интернет), это не сложно сделать, но анализ с использованием этих элементов заиграет новыми красками. Можно будет лоцировать на карте проблемные зоны к которым будут приурочено большее количество плохих оценок, зная это можно улучшать связь добавляя более мощные антенны с 3G и 4G в необходимых местах, а также смотреть с какими тарифными планами возникают проблемы балансирую между удержанием абонентов с более дорогими тарифными планами либо улучшив связь в определенных местах попытаться перевести абонентов с дешёвыми тарифными планами на более дорогие, т.к. возможно плохое качество связи как раз и является причиной почему клиенты используют дешёвые тарифные планы. \n"
   ]
  }
 ],
 "metadata": {
  "colab": {
   "collapsed_sections": [],
   "name": "Постановка задачи.ipynb",
   "provenance": []
  },
  "kernelspec": {
   "display_name": "Python 3 (ipykernel)",
   "language": "python",
   "name": "python3"
  },
  "language_info": {
   "codemirror_mode": {
    "name": "ipython",
    "version": 3
   },
   "file_extension": ".py",
   "mimetype": "text/x-python",
   "name": "python",
   "nbconvert_exporter": "python",
   "pygments_lexer": "ipython3",
   "version": "3.10.4"
  }
 },
 "nbformat": 4,
 "nbformat_minor": 1
}
